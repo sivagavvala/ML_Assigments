{
 "cells": [
  {
   "cell_type": "markdown",
   "metadata": {},
   "source": [
    "# Question 1.1"
   ]
  },
  {
   "cell_type": "code",
   "execution_count": 54,
   "metadata": {},
   "outputs": [],
   "source": [
    "class Area:\n",
    "    def __init__(this, a, b, c):\n",
    "        this.a = a\n",
    "        this.b = b\n",
    "        this.c = c"
   ]
  },
  {
   "cell_type": "code",
   "execution_count": 55,
   "metadata": {},
   "outputs": [
    {
     "name": "stdout",
     "output_type": "stream",
     "text": [
      "Area of traingle is 42.426407.\n"
     ]
    }
   ],
   "source": [
    "class CalculateAOT(Area):\n",
    "    def __init__(self, *args):\n",
    "        super(CalculateAOT, self).__init__(*args)\n",
    "        \n",
    "        cal_area(self.a,self.b,self.c)\n",
    "        \n",
    "    def cal_area(a,b,c):\n",
    "        \n",
    "        s = (a + b + c)/2\n",
    "        area = (s*(s-a)*(s-b)*(s-c)) ** 0.5\n",
    "        return area\n",
    "        \n",
    "        #print(\"Area of traingle with sides %s %s and %s is %f.\" % (self.a, self.b, self.c,area))\n",
    "        \n",
    "    \n",
    "\n",
    "ob = CalculateAOT.cal_area(9,10,11)\n",
    "print(\"Area of traingle is %f.\" % (ob))\n",
    "        "
   ]
  },
  {
   "cell_type": "markdown",
   "metadata": {},
   "source": [
    "# Question 1.2 "
   ]
  },
  {
   "cell_type": "code",
   "execution_count": 56,
   "metadata": {},
   "outputs": [
    {
     "data": {
      "text/plain": [
       "['skdjfnlkdsjfk']"
      ]
     },
     "execution_count": 56,
     "metadata": {},
     "output_type": "execute_result"
    }
   ],
   "source": [
    "def filter_long_words(ls,n):\n",
    "    res = []\n",
    "    for i in ls:\n",
    "        if(len(i)>n):\n",
    "            res.append(i)\n",
    "    return res\n",
    "\n",
    "\n",
    "ls = ['skdjfnlkdsjfk','sdfkj','zsdkjfb','zlkjsdb','ds']\n",
    "res = filter_long_words(ls,10)\n",
    "res"
   ]
  },
  {
   "cell_type": "markdown",
   "metadata": {},
   "source": [
    "# Question 2.1\n"
   ]
  },
  {
   "cell_type": "code",
   "execution_count": 57,
   "metadata": {},
   "outputs": [
    {
     "data": {
      "text/plain": [
       "[3, 6, 5, 7]"
      ]
     },
     "execution_count": 57,
     "metadata": {},
     "output_type": "execute_result"
    }
   ],
   "source": [
    "def length_mapping(ls):\n",
    "    return len(ls)\n",
    "\n",
    "\n",
    "ls = ['qew','qwewqe','qewwq','slkssjh']\n",
    "list(map(length_mapping,ls))"
   ]
  },
  {
   "cell_type": "markdown",
   "metadata": {},
   "source": [
    "# Question 2.2"
   ]
  },
  {
   "cell_type": "code",
   "execution_count": 58,
   "metadata": {},
   "outputs": [
    {
     "data": {
      "text/plain": [
       "True"
      ]
     },
     "execution_count": 58,
     "metadata": {},
     "output_type": "execute_result"
    }
   ],
   "source": [
    "def is_vowel(c):\n",
    "    if(c == 'a' or c == 'e' or c == 'i' or c == 'o' or c == 'u'):\n",
    "        return True\n",
    "    else:\n",
    "        return False\n",
    "    \n",
    "is_vowel('u')"
   ]
  },
  {
   "cell_type": "code",
   "execution_count": null,
   "metadata": {},
   "outputs": [],
   "source": []
  },
  {
   "cell_type": "code",
   "execution_count": null,
   "metadata": {},
   "outputs": [],
   "source": []
  },
  {
   "cell_type": "code",
   "execution_count": null,
   "metadata": {},
   "outputs": [],
   "source": []
  }
 ],
 "metadata": {
  "kernelspec": {
   "display_name": "Python 3",
   "language": "python",
   "name": "python3"
  },
  "language_info": {
   "codemirror_mode": {
    "name": "ipython",
    "version": 3
   },
   "file_extension": ".py",
   "mimetype": "text/x-python",
   "name": "python",
   "nbconvert_exporter": "python",
   "pygments_lexer": "ipython3",
   "version": "3.7.4"
  }
 },
 "nbformat": 4,
 "nbformat_minor": 2
}
